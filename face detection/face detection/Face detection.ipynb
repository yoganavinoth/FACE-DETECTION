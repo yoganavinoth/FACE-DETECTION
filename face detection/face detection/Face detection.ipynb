{
 "cells": [
  {
   "cell_type": "code",
   "execution_count": 1,
   "id": "97e9f6a2",
   "metadata": {},
   "outputs": [],
   "source": [
    "import cv2 #image\n",
    "import time #delay\n",
    "import imutils #resize\n",
    "import numpy "
   ]
  },
  {
   "cell_type": "code",
   "execution_count": 2,
   "id": "a7b756fd",
   "metadata": {},
   "outputs": [],
   "source": [
    "import cv2 #library import\n",
    "\n",
    "img=cv2.imread(\"img.jpg\") #read an image\n",
    "\n",
    "grayimg=cv2.cvtColor(img,cv2.COLOR_BGR2GRAY) #color to gray image\n",
    "\n",
    "cv2.imwrite(\"grayimg.jpg\",grayimg) #save an image\n",
    "\n",
    "cv2.imshow(\"Orig\",img)\n",
    "cv2.imshow(\"Gray\",grayimg)\n"
   ]
  },
  {
   "cell_type": "code",
   "execution_count": 3,
   "id": "70e45857",
   "metadata": {},
   "outputs": [
    {
     "data": {
      "text/plain": [
       "True"
      ]
     },
     "execution_count": 3,
     "metadata": {},
     "output_type": "execute_result"
    }
   ],
   "source": [
    "import cv2\n",
    "import imutils\n",
    "img = cv2.imread('img.jpg')\n",
    "resizedImg = imutils.resize(img, width=500)\n",
    "cv2.imwrite('resizedImage.jpg', resizedImg)"
   ]
  },
  {
   "cell_type": "code",
   "execution_count": 4,
   "id": "d3109e2c",
   "metadata": {},
   "outputs": [],
   "source": [
    "import cv2 #OpenCV\n",
    "\n",
    "alg = \"haarcascade_frontalface_default.xml\" #accessed the model file\n",
    "haar_cascade = cv2.CascadeClassifier(alg) #loading the model wth cv2\n",
    "\n",
    "cam = cv2.VideoCapture(0) #initializing camera\n",
    "\n",
    "while True:\n",
    "    _,img = cam.read() #read the frame from the camera\n",
    "    \n",
    "    grayImg = cv2.cvtColor(img,cv2.COLOR_BGR2GRAY) #converting color into gray scale image\n",
    "\n",
    "    face = haar_cascade.detectMultiScale(grayImg,1.3,4) #get coordinates of face\n",
    "    \n",
    "    for (x,y,w,h) in face: #segregating x,y,w,h.\n",
    "        cv2.rectangle(img,(x,y),(x+w,y+h), (0,255,0),2)\n",
    "    cv2.imshow(\"FaceDetection\",img)\n",
    "    key = cv2.waitKey(10)\n",
    "    if key == 27:\n",
    "        break\n",
    "cam.release()\n",
    "cv2.destroyAllWindows()\n"
   ]
  }
 ],
 "metadata": {
  "kernelspec": {
   "display_name": "Python 3 (ipykernel)",
   "language": "python",
   "name": "python3"
  },
  "language_info": {
   "codemirror_mode": {
    "name": "ipython",
    "version": 3
   },
   "file_extension": ".py",
   "mimetype": "text/x-python",
   "name": "python",
   "nbconvert_exporter": "python",
   "pygments_lexer": "ipython3",
   "version": "3.7.6"
  }
 },
 "nbformat": 4,
 "nbformat_minor": 5
}
