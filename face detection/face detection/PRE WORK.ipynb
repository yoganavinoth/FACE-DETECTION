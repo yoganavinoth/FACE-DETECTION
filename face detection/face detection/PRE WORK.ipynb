{
 "cells": [
  {
   "cell_type": "code",
   "execution_count": null,
   "id": "3e604314",
   "metadata": {},
   "outputs": [],
   "source": [
    "#Resize image\n"
   ]
  },
  {
   "cell_type": "code",
   "execution_count": 3,
   "id": "3af59039",
   "metadata": {},
   "outputs": [
    {
     "data": {
      "text/plain": [
       "True"
      ]
     },
     "execution_count": 3,
     "metadata": {},
     "output_type": "execute_result"
    }
   ],
   "source": [
    "import cv2\n",
    "import imutils\n",
    "img = cv2.imread('img.jpg')\n",
    "resizedImg = imutils.resize(img, width=500)\n",
    "cv2.imwrite('resizedImage.jpg', resizedImg)\n"
   ]
  },
  {
   "cell_type": "code",
   "execution_count": null,
   "id": "e84f0fd0",
   "metadata": {},
   "outputs": [],
   "source": []
  },
  {
   "cell_type": "code",
   "execution_count": null,
   "id": "7c3a7c6c",
   "metadata": {},
   "outputs": [],
   "source": []
  },
  {
   "cell_type": "code",
   "execution_count": null,
   "id": "09274fef",
   "metadata": {},
   "outputs": [],
   "source": []
  },
  {
   "cell_type": "code",
   "execution_count": null,
   "id": "739fd5cb",
   "metadata": {},
   "outputs": [],
   "source": []
  },
  {
   "cell_type": "code",
   "execution_count": null,
   "id": "6b59a58a",
   "metadata": {},
   "outputs": [],
   "source": []
  },
  {
   "cell_type": "code",
   "execution_count": null,
   "id": "c5caf0a0",
   "metadata": {},
   "outputs": [],
   "source": []
  },
  {
   "cell_type": "code",
   "execution_count": 2,
   "id": "1c2f21ec",
   "metadata": {},
   "outputs": [
    {
     "data": {
      "text/plain": [
       "True"
      ]
     },
     "execution_count": 2,
     "metadata": {},
     "output_type": "execute_result"
    }
   ],
   "source": [
    "#Gaussianblur image\n",
    "import cv2\n",
    "img = cv2.imread('img.png')\n",
    "grayimg = cv2.cvtColor(img, cv2.COLOR_BGR2GRAY)\n",
    "#dst = cv2.GaussianBlur(src, (kernel),borderType)\n",
    "gaussianimg = cv2.GaussianBlur(grayimg, (21, 21), 0)\n",
    "cv2.imwrite('GaussianBlur.png',gaussianimg)"
   ]
  },
  {
   "cell_type": "code",
   "execution_count": null,
   "id": "3e3215f4",
   "metadata": {},
   "outputs": [],
   "source": [
    "#Gaussian blur image\n"
   ]
  },
  {
   "cell_type": "code",
   "execution_count": null,
   "id": "4d5f33a9",
   "metadata": {},
   "outputs": [],
   "source": [
    "#Threshold image\n"
   ]
  },
  {
   "cell_type": "code",
   "execution_count": 3,
   "id": "2f287035",
   "metadata": {},
   "outputs": [
    {
     "data": {
      "text/plain": [
       "True"
      ]
     },
     "execution_count": 3,
     "metadata": {},
     "output_type": "execute_result"
    }
   ],
   "source": [
    "#thersholding img\n",
    "#dst = cv2.threshold(src, threshold, maxValueForThreshold,binary,type)[1] \n",
    "import cv2\n",
    "img=cv2.imread(\"img.png\")\n",
    "grayImg = cv2.cvtColor(img,cv2.COLOR_BGR2GRAY)\n",
    "gaussBlur = cv2.GaussianBlur(grayImg,(21,21),0)\n",
    "thresholdImg = cv2.threshold(grayImg,150,255,cv2.THRESH_BINARY)[1]\n",
    "cv2.imwrite('threshold.png',thresholdImg)"
   ]
  },
  {
   "cell_type": "code",
   "execution_count": 4,
   "id": "f3b75469",
   "metadata": {},
   "outputs": [
    {
     "data": {
      "text/plain": [
       "array([[[0, 0, 0],\n",
       "        [0, 0, 0],\n",
       "        [0, 0, 0],\n",
       "        ...,\n",
       "        [0, 0, 0],\n",
       "        [0, 0, 0],\n",
       "        [0, 0, 0]],\n",
       "\n",
       "       [[0, 0, 0],\n",
       "        [0, 0, 0],\n",
       "        [0, 0, 0],\n",
       "        ...,\n",
       "        [0, 0, 0],\n",
       "        [0, 0, 0],\n",
       "        [0, 0, 0]],\n",
       "\n",
       "       [[0, 0, 0],\n",
       "        [0, 0, 0],\n",
       "        [0, 0, 0],\n",
       "        ...,\n",
       "        [0, 0, 0],\n",
       "        [0, 0, 0],\n",
       "        [0, 0, 0]],\n",
       "\n",
       "       ...,\n",
       "\n",
       "       [[0, 0, 0],\n",
       "        [0, 0, 0],\n",
       "        [0, 0, 0],\n",
       "        ...,\n",
       "        [0, 0, 0],\n",
       "        [0, 0, 0],\n",
       "        [0, 0, 0]],\n",
       "\n",
       "       [[0, 0, 0],\n",
       "        [0, 0, 0],\n",
       "        [0, 0, 0],\n",
       "        ...,\n",
       "        [0, 0, 0],\n",
       "        [0, 0, 0],\n",
       "        [0, 0, 0]],\n",
       "\n",
       "       [[0, 0, 0],\n",
       "        [0, 0, 0],\n",
       "        [0, 0, 0],\n",
       "        ...,\n",
       "        [0, 0, 0],\n",
       "        [0, 0, 0],\n",
       "        [0, 0, 0]]], dtype=uint8)"
      ]
     },
     "execution_count": 4,
     "metadata": {},
     "output_type": "execute_result"
    }
   ],
   "source": [
    "#cv2.rectangle(src,startpoint,endpoint,color,thickness)\n",
    "x=150\n",
    "y=150\n",
    "w=500\n",
    "h=290\n",
    "cv2.rectangle(img, (x, y), (x + w, y + h), (0, 255, 0), 2)"
   ]
  },
  {
   "cell_type": "code",
   "execution_count": 5,
   "id": "349a4fd0",
   "metadata": {},
   "outputs": [
    {
     "data": {
      "text/plain": [
       "array([[[0, 0, 0],\n",
       "        [0, 0, 0],\n",
       "        [0, 0, 0],\n",
       "        ...,\n",
       "        [0, 0, 0],\n",
       "        [0, 0, 0],\n",
       "        [0, 0, 0]],\n",
       "\n",
       "       [[0, 0, 0],\n",
       "        [0, 0, 0],\n",
       "        [0, 0, 0],\n",
       "        ...,\n",
       "        [0, 0, 0],\n",
       "        [0, 0, 0],\n",
       "        [0, 0, 0]],\n",
       "\n",
       "       [[0, 0, 0],\n",
       "        [0, 0, 0],\n",
       "        [0, 0, 0],\n",
       "        ...,\n",
       "        [0, 0, 0],\n",
       "        [0, 0, 0],\n",
       "        [0, 0, 0]],\n",
       "\n",
       "       ...,\n",
       "\n",
       "       [[0, 0, 0],\n",
       "        [0, 0, 0],\n",
       "        [0, 0, 0],\n",
       "        ...,\n",
       "        [0, 0, 0],\n",
       "        [0, 0, 0],\n",
       "        [0, 0, 0]],\n",
       "\n",
       "       [[0, 0, 0],\n",
       "        [0, 0, 0],\n",
       "        [0, 0, 0],\n",
       "        ...,\n",
       "        [0, 0, 0],\n",
       "        [0, 0, 0],\n",
       "        [0, 0, 0]],\n",
       "\n",
       "       [[0, 0, 0],\n",
       "        [0, 0, 0],\n",
       "        [0, 0, 0],\n",
       "        ...,\n",
       "        [0, 0, 0],\n",
       "        [0, 0, 0],\n",
       "        [0, 0, 0]]], dtype=uint8)"
      ]
     },
     "execution_count": 5,
     "metadata": {},
     "output_type": "execute_result"
    }
   ],
   "source": [
    "#cv2.putText(src, text, position,font,fontSize,color,thickness)\n",
    "text=\"detection\"\n",
    "\n",
    "cv2.putText(img, text, (10, 20), cv2.FONT_HERSHEY_SIMPLEX, 0.5, (0, 0, 255), 2)"
   ]
  },
  {
   "cell_type": "code",
   "execution_count": 6,
   "id": "acbc6f89",
   "metadata": {
    "scrolled": false
   },
   "outputs": [],
   "source": [
    "#dst =cv2.findContours(srcImageCopy, contourRetrievalMode,  contourApproximationMethod)\n",
    " \n",
    "cnts = cv2.findContours(thresholdImg.copy(), cv2.RETR_EXTERNAL,  cv2.CHAIN_APPROX_SIMPLE)"
   ]
  },
  {
   "cell_type": "code",
   "execution_count": 7,
   "id": "ea25b72c",
   "metadata": {},
   "outputs": [],
   "source": [
    "import cv2 #library import\n",
    "\n",
    "img=cv2.imread(\"img.png\") #read an image\n",
    "\n",
    "grayImg=cv2.cvtColor(img,cv2.COLOR_BGR2GRAY) #color to gray image\n",
    "\n",
    "cv2.imwrite(\"grayImage.png\",grayImg) #save an image\n",
    "\n",
    "cv2.imshow(\"Orig\",img)\n",
    "cv2.imshow(\"Gray\",grayImg)\n"
   ]
  },
  {
   "cell_type": "code",
   "execution_count": null,
   "id": "353ca514",
   "metadata": {},
   "outputs": [],
   "source": []
  }
 ],
 "metadata": {
  "kernelspec": {
   "display_name": "Python 3 (ipykernel)",
   "language": "python",
   "name": "python3"
  },
  "language_info": {
   "codemirror_mode": {
    "name": "ipython",
    "version": 3
   },
   "file_extension": ".py",
   "mimetype": "text/x-python",
   "name": "python",
   "nbconvert_exporter": "python",
   "pygments_lexer": "ipython3",
   "version": "3.7.6"
  }
 },
 "nbformat": 4,
 "nbformat_minor": 5
}
